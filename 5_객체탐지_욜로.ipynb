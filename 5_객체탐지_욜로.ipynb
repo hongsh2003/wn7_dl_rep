{
 "cells": [
  {
   "cell_type": "code",
   "execution_count": 2,
   "id": "a6711744",
   "metadata": {},
   "outputs": [
    {
     "name": "stdout",
     "output_type": "stream",
     "text": [
      "\n",
      "image 1/1 c:\\githome\\wn7_dl_rep\\sample.png: 640x608 3 persons, 43.3ms\n",
      "Speed: 9.2ms preprocess, 43.3ms inference, 60.3ms postprocess per image at shape (1, 3, 640, 608)\n"
     ]
    },
    {
     "data": {
      "text/plain": [
       "[ultralytics.engine.results.Results object with attributes:\n",
       " \n",
       " boxes: ultralytics.engine.results.Boxes object\n",
       " keypoints: None\n",
       " masks: None\n",
       " names: {0: 'person', 1: 'bicycle', 2: 'car', 3: 'motorcycle', 4: 'airplane', 5: 'bus', 6: 'train', 7: 'truck', 8: 'boat', 9: 'traffic light', 10: 'fire hydrant', 11: 'stop sign', 12: 'parking meter', 13: 'bench', 14: 'bird', 15: 'cat', 16: 'dog', 17: 'horse', 18: 'sheep', 19: 'cow', 20: 'elephant', 21: 'bear', 22: 'zebra', 23: 'giraffe', 24: 'backpack', 25: 'umbrella', 26: 'handbag', 27: 'tie', 28: 'suitcase', 29: 'frisbee', 30: 'skis', 31: 'snowboard', 32: 'sports ball', 33: 'kite', 34: 'baseball bat', 35: 'baseball glove', 36: 'skateboard', 37: 'surfboard', 38: 'tennis racket', 39: 'bottle', 40: 'wine glass', 41: 'cup', 42: 'fork', 43: 'knife', 44: 'spoon', 45: 'bowl', 46: 'banana', 47: 'apple', 48: 'sandwich', 49: 'orange', 50: 'broccoli', 51: 'carrot', 52: 'hot dog', 53: 'pizza', 54: 'donut', 55: 'cake', 56: 'chair', 57: 'couch', 58: 'potted plant', 59: 'bed', 60: 'dining table', 61: 'toilet', 62: 'tv', 63: 'laptop', 64: 'mouse', 65: 'remote', 66: 'keyboard', 67: 'cell phone', 68: 'microwave', 69: 'oven', 70: 'toaster', 71: 'sink', 72: 'refrigerator', 73: 'book', 74: 'clock', 75: 'vase', 76: 'scissors', 77: 'teddy bear', 78: 'hair drier', 79: 'toothbrush'}\n",
       " obb: None\n",
       " orig_img: array([[[228, 227, 226],\n",
       "         [226, 222, 221],\n",
       "         [227, 224, 222],\n",
       "         ...,\n",
       "         [229, 230, 229],\n",
       "         [227, 225, 225],\n",
       "         [228, 226, 225]],\n",
       " \n",
       "        [[227, 225, 224],\n",
       "         [226, 220, 219],\n",
       "         [226, 222, 221],\n",
       "         ...,\n",
       "         [228, 229, 228],\n",
       "         [228, 227, 226],\n",
       "         [229, 228, 227]],\n",
       " \n",
       "        [[226, 221, 220],\n",
       "         [227, 224, 223],\n",
       "         [226, 222, 221],\n",
       "         ...,\n",
       "         [229, 229, 228],\n",
       "         [229, 229, 229],\n",
       "         [229, 229, 229]],\n",
       " \n",
       "        ...,\n",
       " \n",
       "        [[233, 240, 240],\n",
       "         [232, 236, 236],\n",
       "         [230, 232, 231],\n",
       "         ...,\n",
       "         [232, 237, 237],\n",
       "         [232, 236, 236],\n",
       "         [232, 235, 235]],\n",
       " \n",
       "        [[233, 239, 239],\n",
       "         [231, 235, 235],\n",
       "         [230, 231, 230],\n",
       "         ...,\n",
       "         [232, 237, 236],\n",
       "         [232, 236, 236],\n",
       "         [232, 236, 236]],\n",
       " \n",
       "        [[232, 235, 235],\n",
       "         [231, 234, 234],\n",
       "         [230, 233, 233],\n",
       "         ...,\n",
       "         [232, 236, 235],\n",
       "         [231, 236, 236],\n",
       "         [232, 236, 236]]], dtype=uint8)\n",
       " orig_shape: (614, 580)\n",
       " path: 'c:\\\\githome\\\\wn7_dl_rep\\\\sample.png'\n",
       " probs: None\n",
       " save_dir: 'runs\\\\detect\\\\predict'\n",
       " speed: {'preprocess': 9.247400012100115, 'inference': 43.30889999982901, 'postprocess': 60.27840000751894}]"
      ]
     },
     "execution_count": 2,
     "metadata": {},
     "output_type": "execute_result"
    }
   ],
   "source": [
    "from ultralytics import YOLO\n",
    "\n",
    "model = YOLO(\"yolov8n.pt\")\n",
    "result = model('sample.png')\n",
    "result"
   ]
  },
  {
   "cell_type": "code",
   "execution_count": 3,
   "id": "6617c6e5",
   "metadata": {},
   "outputs": [
    {
     "name": "stdout",
     "output_type": "stream",
     "text": [
      "\n",
      "image 1/1 c:\\githome\\wn7_dl_rep\\red_panda.jpg: 352x640 3 bears, 33.6ms\n",
      "Speed: 1.5ms preprocess, 33.6ms inference, 2.6ms postprocess per image at shape (1, 3, 352, 640)\n"
     ]
    },
    {
     "data": {
      "text/plain": [
       "tensor(0.9443, device='cuda:0')"
      ]
     },
     "execution_count": 3,
     "metadata": {},
     "output_type": "execute_result"
    }
   ],
   "source": [
    "# 바운딩박스, 라벨 출력\n",
    "result = model('red_panda.jpg')\n",
    "result[0].boxes[0].conf[0]"
   ]
  },
  {
   "cell_type": "code",
   "execution_count": 4,
   "id": "9c08817e",
   "metadata": {},
   "outputs": [
    {
     "data": {
      "text/plain": [
       "array([[[ 65, 154,  45],\n",
       "        [ 72, 155,  52],\n",
       "        [ 76, 149,  57],\n",
       "        ...,\n",
       "        [ 12,  16,  21],\n",
       "        [  6,  10,  15],\n",
       "        [ 28,  32,  37]],\n",
       "\n",
       "       [[ 82, 171,  62],\n",
       "        [ 74, 157,  54],\n",
       "        [ 70, 143,  51],\n",
       "        ...,\n",
       "        [  6,  10,  15],\n",
       "        [  0,   4,   9],\n",
       "        [ 23,  27,  32]],\n",
       "\n",
       "       [[ 76, 164,  58],\n",
       "        [ 68, 151,  49],\n",
       "        [ 67, 141,  47],\n",
       "        ...,\n",
       "        [  6,   9,  14],\n",
       "        [  0,   3,   8],\n",
       "        [ 22,  25,  30]],\n",
       "\n",
       "       ...,\n",
       "\n",
       "       [[112, 136,  94],\n",
       "        [143, 171, 128],\n",
       "        [157, 191, 150],\n",
       "        ...,\n",
       "        [200, 198, 198],\n",
       "        [202, 200, 200],\n",
       "        [204, 202, 202]],\n",
       "\n",
       "       [[111, 132,  99],\n",
       "        [124, 149, 115],\n",
       "        [165, 198, 161],\n",
       "        ...,\n",
       "        [188, 186, 186],\n",
       "        [183, 181, 181],\n",
       "        [196, 194, 194]],\n",
       "\n",
       "       [[135, 155, 126],\n",
       "        [121, 145, 113],\n",
       "        [165, 196, 163],\n",
       "        ...,\n",
       "        [178, 176, 176],\n",
       "        [171, 169, 169],\n",
       "        [183, 181, 181]]], dtype=uint8)"
      ]
     },
     "execution_count": 4,
     "metadata": {},
     "output_type": "execute_result"
    }
   ],
   "source": [
    "import cv2 \n",
    "img = cv2.imread('red_panda.jpg')\n",
    "img"
   ]
  },
  {
   "cell_type": "code",
   "execution_count": 6,
   "id": "36672982",
   "metadata": {},
   "outputs": [
    {
     "data": {
      "text/plain": [
       "True"
      ]
     },
     "execution_count": 6,
     "metadata": {},
     "output_type": "execute_result"
    }
   ],
   "source": [
    "for box in result[0].boxes:\n",
    "    class_id = box.cls[0]\n",
    "    class_name = model.names[class_id.item()]\n",
    "    \n",
    "    # 신뢰도 점수\n",
    "    conf = float(box.conf[0])\n",
    "    \n",
    "    # 바운딩 박스\n",
    "    coords = box.xyxy[0].tolist()\n",
    "    x1, y1, x2, y2 = map(int, coords)\n",
    "    \n",
    "    cv2.rectangle(img, (x1, y1), (x2, y2), (0, 255, 0), 2)\n",
    "    cv2.putText(img, f'{class_name} {conf:.4f}',\n",
    "                (x1,y1-10), cv2.FONT_HERSHEY_PLAIN,\n",
    "                1, (0,255,0),1)\n",
    "    \n",
    "# end-for\n",
    "cv2.imshow('yolov8 object detection', img)\n",
    "cv2.waitKey(0)\n",
    "cv2.destroyAllWindows()\n",
    "cv2.imwrite('detect_result.jpg', img)"
   ]
  },
  {
   "cell_type": "markdown",
   "id": "7e271da8",
   "metadata": {},
   "source": [
    "# Segmentation"
   ]
  },
  {
   "cell_type": "code",
   "execution_count": 19,
   "id": "5d43e3ab",
   "metadata": {},
   "outputs": [
    {
     "name": "stdout",
     "output_type": "stream",
     "text": [
      "\n",
      "image 1/1 c:\\githome\\wn7_dl_rep\\street.jpg: 512x640 17 persons, 3 buss, 2 backpacks, 1 handbag, 30.7ms\n",
      "Speed: 3.2ms preprocess, 30.7ms inference, 32.9ms postprocess per image at shape (1, 3, 512, 640)\n"
     ]
    }
   ],
   "source": [
    "from ultralytics import YOLO\n",
    "\n",
    "model = YOLO(\"yolov8n-seg.pt\")\n",
    "result = model('street.jpg')\n",
    "result[0].show()"
   ]
  },
  {
   "cell_type": "code",
   "execution_count": null,
   "id": "48808fdf",
   "metadata": {},
   "outputs": [
    {
     "data": {
      "text/plain": [
       "True"
      ]
     },
     "execution_count": 20,
     "metadata": {},
     "output_type": "execute_result"
    }
   ],
   "source": [
    "import numpy as np\n",
    "\n",
    "img_new = cv2.imread('street.jpg')\n",
    "overlay = img_new.copy() # 마스크용\n",
    "\n",
    "for box, mask in zip(result[0].boxes, result[0].masks):\n",
    "    \n",
    "    polygon = mask.xy[0].astype(np.int32)\n",
    "    cv2.fillPoly(overlay, [polygon], (0, 255, 0))\n",
    "    \n",
    "    class_id = box.cls[0]\n",
    "    class_name = model.names[class_id.item()]\n",
    "    \n",
    "    # 신뢰도 점수\n",
    "    conf = float(box.conf[0])\n",
    "    \n",
    "    # 바운딩 박스\n",
    "    coords = box.xyxy[0].tolist()\n",
    "    x1, y1, x2, y2 = map(int, coords)\n",
    "    \n",
    "    cv2.rectangle(img_new, (x1, y1), (x2, y2), (0, 255, 0), 2)\n",
    "    cv2.putText(img_new, f'{class_name} {conf:.4f}',\n",
    "                (x1,y1-10), cv2.FONT_HERSHEY_PLAIN,\n",
    "                1, (0,255,0),1)\n",
    "\n",
    "# img + overlay combine and print\n",
    "alpha = 0.5\n",
    "final_img = cv2.addWeighted(overlay, alpha, img_new, 1-alpha, 0)\n",
    "\n",
    "# 최종출력\n",
    "cv2.imshow('yolov8 object segmentation', final_img)\n",
    "cv2.waitKey(0)\n",
    "cv2.destroyAllWindows()\n",
    "cv2.imwrite('detect_result.jpg', final_img)"
   ]
  },
  {
   "cell_type": "markdown",
   "id": "863b85d3",
   "metadata": {},
   "source": [
    "# 분류 (생략)\n",
    "# 자세"
   ]
  },
  {
   "cell_type": "code",
   "execution_count": 25,
   "id": "9709de93",
   "metadata": {},
   "outputs": [
    {
     "name": "stdout",
     "output_type": "stream",
     "text": [
      "\u001b[KDownloading https://github.com/ultralytics/assets/releases/download/v8.3.0/yolov8n-pose.pt to 'yolov8n-pose.pt': 100% ━━━━━━━━━━━━ 6.5/6.5MB 12.9MB/s 0.5s0.1s6s\n",
      "\n",
      "image 1/1 c:\\githome\\wn7_dl_rep\\V.jpg: 640x640 1 person, 28.5ms\n",
      "Speed: 5.1ms preprocess, 28.5ms inference, 2.9ms postprocess per image at shape (1, 3, 640, 640)\n"
     ]
    },
    {
     "data": {
      "text/plain": [
       "True"
      ]
     },
     "execution_count": 25,
     "metadata": {},
     "output_type": "execute_result"
    }
   ],
   "source": [
    "pose_model = YOLO(\"yolov8n-pose.pt\")\n",
    "pose_result = pose_model('V.jpg')\n",
    "img = cv2.imread('V.jpg')\n",
    "\n",
    "kp = pose_result[0].keypoints\n",
    "\n",
    "for man_kp in kp:\n",
    "    for x, y in man_kp.xy[0]:\n",
    "        if x>0 and y>0:\n",
    "            cv2.circle(img, (int(x), int(y)), 3, (255, 0, 0), -1)\n",
    "            \n",
    "cv2.imshow('yolov8 object pose estimation', img)\n",
    "cv2.waitKey(0)\n",
    "cv2.destroyAllWindows()\n",
    "cv2.imwrite('pose_result.jpg', img)"
   ]
  },
  {
   "cell_type": "code",
   "execution_count": 26,
   "id": "1868ee45",
   "metadata": {},
   "outputs": [
    {
     "name": "stdout",
     "output_type": "stream",
     "text": [
      "\n",
      "image 1/1 c:\\githome\\wn7_dl_rep\\RV.jpg: 448x640 3 persons, 33.9ms\n",
      "Speed: 2.7ms preprocess, 33.9ms inference, 5.9ms postprocess per image at shape (1, 3, 448, 640)\n"
     ]
    },
    {
     "data": {
      "text/plain": [
       "True"
      ]
     },
     "execution_count": 26,
     "metadata": {},
     "output_type": "execute_result"
    }
   ],
   "source": [
    "pose_model = YOLO(\"yolov8n-pose.pt\")\n",
    "pose_result = pose_model('RV.jpg')\n",
    "img = cv2.imread('RV.jpg')\n",
    "\n",
    "kp = pose_result[0].keypoints\n",
    "\n",
    "for man_kp in kp:\n",
    "    for x, y in man_kp.xy[0]:\n",
    "        if x>0 and y>0:\n",
    "            cv2.circle(img, (int(x), int(y)), 3, (255, 0, 0), -1)\n",
    "            \n",
    "cv2.imshow('yolov8 object pose estimation', img)\n",
    "cv2.waitKey(0)\n",
    "cv2.destroyAllWindows()\n",
    "cv2.imwrite('pose_result.jpg', img)"
   ]
  }
 ],
 "metadata": {
  "kernelspec": {
   "display_name": "torch_cuda_yolo_env",
   "language": "python",
   "name": "python3"
  },
  "language_info": {
   "codemirror_mode": {
    "name": "ipython",
    "version": 3
   },
   "file_extension": ".py",
   "mimetype": "text/x-python",
   "name": "python",
   "nbconvert_exporter": "python",
   "pygments_lexer": "ipython3",
   "version": "3.10.18"
  }
 },
 "nbformat": 4,
 "nbformat_minor": 5
}
