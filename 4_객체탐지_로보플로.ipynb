{
 "cells": [
  {
   "cell_type": "markdown",
   "id": "e436053d",
   "metadata": {},
   "source": [
    "# 추론: 배포한 공유모델로 객체감지"
   ]
  },
  {
   "cell_type": "code",
   "execution_count": 2,
   "id": "5ece5602",
   "metadata": {},
   "outputs": [
    {
     "name": "stdout",
     "output_type": "stream",
     "text": [
      "torch: 2.6.0+cu124 cuda: 12.4 is_available: True\n"
     ]
    }
   ],
   "source": [
    "import torch\n",
    "print(\"torch:\", \n",
    "      torch.__version__, \n",
    "      \"cuda:\", torch.version.cuda, \n",
    "      \"is_available:\", \n",
    "      torch.cuda.is_available())"
   ]
  },
  {
   "cell_type": "code",
   "execution_count": 3,
   "id": "50d3717e",
   "metadata": {},
   "outputs": [],
   "source": [
    "import os\n",
    "from dotenv import load_dotenv\n",
    "loaded = load_dotenv()\n",
    "# os.getenv('ROBOFLOW_API_KEY')"
   ]
  },
  {
   "cell_type": "code",
   "execution_count": 4,
   "id": "ca425a36",
   "metadata": {},
   "outputs": [
    {
     "data": {
      "text/plain": [
       "<inference_sdk.http.client.InferenceHTTPClient at 0x13eabae16f0>"
      ]
     },
     "execution_count": 4,
     "metadata": {},
     "output_type": "execute_result"
    }
   ],
   "source": [
    "from inference_sdk import InferenceHTTPClient\n",
    "CLIENT = InferenceHTTPClient(\n",
    "    api_url=\"https://detect.roboflow.com\",\n",
    "    api_key = os.getenv('ROBOFLOW_API_KEY')\n",
    ")\n",
    "CLIENT"
   ]
  },
  {
   "cell_type": "code",
   "execution_count": 5,
   "id": "bf7fa0ba",
   "metadata": {},
   "outputs": [
    {
     "data": {
      "text/plain": [
       "{'inference_id': '9b9c6d78-4422-4c12-9e08-961ab55aa21f',\n",
       " 'time': 0.049025673999949504,\n",
       " 'image': {'width': 580, 'height': 614},\n",
       " 'predictions': [{'x': 129.5,\n",
       "   'y': 119.0,\n",
       "   'width': 257.0,\n",
       "   'height': 96.0,\n",
       "   'confidence': 0.8729892373085022,\n",
       "   'class': 'Scissors',\n",
       "   'class_id': 2,\n",
       "   'detection_id': '91270045-68af-40ef-8bb6-e1b3b93b49b8'},\n",
       "  {'x': 117.0,\n",
       "   'y': 316.5,\n",
       "   'width': 230.0,\n",
       "   'height': 123.0,\n",
       "   'confidence': 0.7074464559555054,\n",
       "   'class': 'Paper',\n",
       "   'class_id': 0,\n",
       "   'detection_id': '1233dca9-fbce-4f82-abd6-ec66eff3544d'},\n",
       "  {'x': 128.0,\n",
       "   'y': 502.5,\n",
       "   'width': 254.0,\n",
       "   'height': 109.0,\n",
       "   'confidence': 0.4878521263599396,\n",
       "   'class': 'Paper',\n",
       "   'class_id': 0,\n",
       "   'detection_id': 'cd359ed8-a6ea-435c-8d38-601cef443b0c'}]}"
      ]
     },
     "execution_count": 5,
     "metadata": {},
     "output_type": "execute_result"
    }
   ],
   "source": [
    "result = CLIENT.infer('sample.png', model_id=\"rock-paper-scissors-sxsw/14\")\n",
    "result"
   ]
  },
  {
   "cell_type": "code",
   "execution_count": null,
   "id": "441725a0",
   "metadata": {},
   "outputs": [
    {
     "name": "stdout",
     "output_type": "stream",
     "text": [
      "129.5 119.0 257.0 96.0 0.8729892373085022 Scissors\n",
      "117.0 316.5 230.0 123.0 0.7074464559555054 Paper\n",
      "128.0 502.5 254.0 109.0 0.4878521263599396 Paper\n"
     ]
    }
   ],
   "source": [
    "import cv2\n",
    "img = cv2.imread('sample.png')\n",
    "\n",
    "for pred in result['predictions']:\n",
    "    x = pred['x']\n",
    "    y = pred['y']\n",
    "    width = pred['width']\n",
    "    height = pred['height']\n",
    "    conf = pred['confidence']\n",
    "    obj_class = pred['class']\n",
    "    \n",
    "    x1, y1 = int(x-width/2), int(y-height/2)\n",
    "    x2, y2 = int(x+width/2), int(y+height/2)\n",
    "    cv2.rectangle(img, (x1,y1), (x2, y2), (0,0,255), 2)\n",
    "    cv2.putText(img, f'{obj_class} {conf:.4f}', (x1,y1), cv2.FONT_HERSHEY_PLAIN, 2, (0,0,255))\n",
    "    \n",
    "    print(x, y, width, height, conf, obj_class)\n",
    "    \n",
    "cv2.imshow('image', img)\n",
    "cv2.waitKey()\n",
    "cv2.destroyAllWindows()"
   ]
  },
  {
   "cell_type": "code",
   "execution_count": 4,
   "id": "2215c139",
   "metadata": {},
   "outputs": [
    {
     "data": {
      "text/plain": [
       "<inference_sdk.http.client.InferenceHTTPClient at 0x29fcd8d07f0>"
      ]
     },
     "execution_count": 4,
     "metadata": {},
     "output_type": "execute_result"
    }
   ],
   "source": [
    "from inference_sdk import InferenceHTTPClient\n",
    "CLIENT1 = InferenceHTTPClient(\n",
    "    api_url=\"https://detect.roboflow.com\",\n",
    "    api_key = os.getenv('ROBOFLOW_API_KEY')\n",
    ")\n",
    "CLIENT1"
   ]
  },
  {
   "cell_type": "code",
   "execution_count": 14,
   "id": "184695b8",
   "metadata": {},
   "outputs": [
    {
     "data": {
      "text/plain": [
       "{'inference_id': '5555b1d2-9474-4d0e-b816-acbd2541f478',\n",
       " 'time': 0.03505561299971305,\n",
       " 'image': {'width': 416, 'height': 416},\n",
       " 'predictions': [{'x': 264.0,\n",
       "   'y': 313.5,\n",
       "   'width': 28.0,\n",
       "   'height': 43.0,\n",
       "   'confidence': 0.9781924486160278,\n",
       "   'class': '3',\n",
       "   'class_id': 3,\n",
       "   'detection_id': '58eeb0ce-4f88-42e8-81cf-7a3bbb78cf8e'},\n",
       "  {'x': 377.5,\n",
       "   'y': 330.0,\n",
       "   'width': 29.0,\n",
       "   'height': 36.0,\n",
       "   'confidence': 0.9623201489448547,\n",
       "   'class': '3',\n",
       "   'class_id': 3,\n",
       "   'detection_id': 'ceb0396b-6373-4472-90c1-6084ef096d1d'},\n",
       "  {'x': 195.0,\n",
       "   'y': 279.0,\n",
       "   'width': 28.0,\n",
       "   'height': 44.0,\n",
       "   'confidence': 0.9390106201171875,\n",
       "   'class': '6',\n",
       "   'class_id': 6,\n",
       "   'detection_id': 'd24b00de-27a5-47d6-bdab-93dc3a977d2c'},\n",
       "  {'x': 196.5,\n",
       "   'y': 66.0,\n",
       "   'width': 13.0,\n",
       "   'height': 14.0,\n",
       "   'confidence': 0.7679268717765808,\n",
       "   'class': '2',\n",
       "   'class_id': 2,\n",
       "   'detection_id': '8228d540-119f-4c74-8e21-edc0730a2c25'},\n",
       "  {'x': 299.5,\n",
       "   'y': 24.5,\n",
       "   'width': 13.0,\n",
       "   'height': 19.0,\n",
       "   'confidence': 0.7507703304290771,\n",
       "   'class': '9',\n",
       "   'class_id': 9,\n",
       "   'detection_id': 'ab0f1429-7351-451b-8718-09bad0af5298'},\n",
       "  {'x': 167.5,\n",
       "   'y': 362.0,\n",
       "   'width': 9.0,\n",
       "   'height': 12.0,\n",
       "   'confidence': 0.5233221054077148,\n",
       "   'class': '6',\n",
       "   'class_id': 6,\n",
       "   'detection_id': '07d3e062-3099-4a00-b913-cc4bc6559b57'},\n",
       "  {'x': 365.5,\n",
       "   'y': 384.5,\n",
       "   'width': 15.0,\n",
       "   'height': 23.0,\n",
       "   'confidence': 0.46428099274635315,\n",
       "   'class': '3',\n",
       "   'class_id': 3,\n",
       "   'detection_id': '1b17718a-5240-4dfb-9586-dff5c6e3787f'}]}"
      ]
     },
     "execution_count": 14,
     "metadata": {},
     "output_type": "execute_result"
    }
   ],
   "source": [
    "result1 = CLIENT1.infer('./mnist_train/000002.jpg', model_id=\"numbers-rioqd/2\")\n",
    "result1"
   ]
  },
  {
   "cell_type": "markdown",
   "id": "92f114ba",
   "metadata": {},
   "source": [
    "# model 가져오기"
   ]
  },
  {
   "cell_type": "code",
   "execution_count": 9,
   "id": "c045b9b2",
   "metadata": {},
   "outputs": [
    {
     "name": "stdout",
     "output_type": "stream",
     "text": [
      "loading Roboflow workspace...\n",
      "loading Roboflow project...\n"
     ]
    },
    {
     "data": {
      "text/plain": [
       "<roboflow.models.object_detection.ObjectDetectionModel at 0x29fdf257d30>"
      ]
     },
     "execution_count": 9,
     "metadata": {},
     "output_type": "execute_result"
    }
   ],
   "source": [
    "from roboflow import Roboflow\n",
    "import cv2\n",
    "rf = Roboflow(api_key=os.getenv('ROBOFLOW_API_KEY'))\n",
    "project = rf.workspace().project('numbers-yt0h2')\n",
    "numbers_model = project.version(2).model\n",
    "numbers_model"
   ]
  },
  {
   "cell_type": "code",
   "execution_count": 18,
   "id": "96ac04cb",
   "metadata": {},
   "outputs": [
    {
     "name": "stdout",
     "output_type": "stream",
     "text": [
      "{'predictions': [{'x': 109, 'y': 234, 'width': 7, 'height': 8, 'confidence': 0.5137761831283569, 'class': '2', 'class_id': 2, 'detection_id': 'b9453b38-89ce-47db-b2b8-0279d9ed49ea', 'image_path': './mnist_train/000002.jpg', 'prediction_type': 'ObjectDetectionModel'}, {'x': 76, 'y': 126, 'width': 25, 'height': 30, 'confidence': 0.49453362822532654, 'class': '8', 'class_id': 8, 'detection_id': '39761633-6698-427a-aacd-05a1514ee15d', 'image_path': './mnist_train/000002.jpg', 'prediction_type': 'ObjectDetectionModel'}, {'x': 234, 'y': 30, 'width': 45, 'height': 46, 'confidence': 0.4825494885444641, 'class': '3', 'class_id': 3, 'detection_id': 'e63e37ea-e6d7-4d63-849f-f9f1e9fffd4d', 'image_path': './mnist_train/000002.jpg', 'prediction_type': 'ObjectDetectionModel'}, {'x': 233, 'y': 30, 'width': 47, 'height': 44, 'confidence': 0.4006369411945343, 'class': '2', 'class_id': 2, 'detection_id': 'dbe3d026-6131-44aa-9869-f4125da8047a', 'image_path': './mnist_train/000002.jpg', 'prediction_type': 'ObjectDetectionModel'}], 'image': {'width': '416', 'height': '416'}}\n",
      "109 234 7 8 20.5138\n",
      "76 126 25 30 80.4945\n",
      "234 30 45 46 30.4825\n",
      "233 30 47 44 20.4006\n"
     ]
    },
    {
     "ename": "KeyboardInterrupt",
     "evalue": "",
     "output_type": "error",
     "traceback": [
      "\u001b[1;31m---------------------------------------------------------------------------\u001b[0m",
      "\u001b[1;31mKeyboardInterrupt\u001b[0m                         Traceback (most recent call last)",
      "Cell \u001b[1;32mIn[18], line 19\u001b[0m\n\u001b[0;32m     16\u001b[0m     \u001b[38;5;28mprint\u001b[39m(x, y, width, height, \u001b[38;5;124mf\u001b[39m\u001b[38;5;124m'\u001b[39m\u001b[38;5;132;01m{\u001b[39;00m\u001b[38;5;28mcls\u001b[39m\u001b[38;5;132;01m}\u001b[39;00m\u001b[38;5;132;01m{\u001b[39;00mconf\u001b[38;5;132;01m:\u001b[39;00m\u001b[38;5;124m.4f\u001b[39m\u001b[38;5;132;01m}\u001b[39;00m\u001b[38;5;124m'\u001b[39m)\n\u001b[0;32m     18\u001b[0m cv2\u001b[38;5;241m.\u001b[39mimshow(\u001b[38;5;124m'\u001b[39m\u001b[38;5;124mimage\u001b[39m\u001b[38;5;124m'\u001b[39m, img)\n\u001b[1;32m---> 19\u001b[0m \u001b[43mcv2\u001b[49m\u001b[38;5;241;43m.\u001b[39;49m\u001b[43mwaitKey\u001b[49m\u001b[43m(\u001b[49m\u001b[43m)\u001b[49m\n\u001b[0;32m     20\u001b[0m cv2\u001b[38;5;241m.\u001b[39mdestroyAllWindows()\n",
      "\u001b[1;31mKeyboardInterrupt\u001b[0m: "
     ]
    }
   ],
   "source": [
    "import cv2\n",
    "img = cv2.imread('./mnist_train/000002.jpg')\n",
    "\n",
    "filename = './mnist_train/000002.jpg'\n",
    "result = numbers_model.predict(filename, confidence=40, overlap=30)\n",
    "result_json = result.json()\n",
    "print(result_json)\n",
    "\n",
    "for pred in result_json['predictions']:\n",
    "    x = pred['x']\n",
    "    y = pred['y']\n",
    "    width = pred['width']\n",
    "    height = pred['height']\n",
    "    conf = pred['confidence']\n",
    "    cls = pred['class']\n",
    "    print(x, y, width, height, f'{cls}{conf:.4f}')\n",
    "    \n",
    "cv2.imshow('image', img)\n",
    "cv2.waitKey()\n",
    "cv2.destroyAllWindows()"
   ]
  },
  {
   "cell_type": "code",
   "execution_count": 21,
   "id": "b2abe3b1",
   "metadata": {},
   "outputs": [
    {
     "name": "stdout",
     "output_type": "stream",
     "text": [
      "109 234 7 8 2 0.5138\n",
      "76 126 25 30 8 0.4945\n",
      "234 30 45 46 3 0.4825\n",
      "233 30 47 44 2 0.4006\n"
     ]
    },
    {
     "ename": "KeyboardInterrupt",
     "evalue": "",
     "output_type": "error",
     "traceback": [
      "\u001b[1;31m---------------------------------------------------------------------------\u001b[0m",
      "\u001b[1;31mKeyboardInterrupt\u001b[0m                         Traceback (most recent call last)",
      "Cell \u001b[1;32mIn[21], line 22\u001b[0m\n\u001b[0;32m     19\u001b[0m     cv2\u001b[38;5;241m.\u001b[39mputText(img, \u001b[38;5;124mf\u001b[39m\u001b[38;5;124m'\u001b[39m\u001b[38;5;132;01m{\u001b[39;00m\u001b[38;5;28mcls\u001b[39m\u001b[38;5;132;01m}\u001b[39;00m\u001b[38;5;124m \u001b[39m\u001b[38;5;132;01m{\u001b[39;00mconf\u001b[38;5;132;01m:\u001b[39;00m\u001b[38;5;124m.4f\u001b[39m\u001b[38;5;132;01m}\u001b[39;00m\u001b[38;5;124m'\u001b[39m, (x1,y1), cv2\u001b[38;5;241m.\u001b[39mFONT_HERSHEY_PLAIN, \u001b[38;5;241m2\u001b[39m, (\u001b[38;5;241m0\u001b[39m,\u001b[38;5;241m0\u001b[39m,\u001b[38;5;241m255\u001b[39m))\n\u001b[0;32m     21\u001b[0m cv2\u001b[38;5;241m.\u001b[39mimshow(\u001b[38;5;124m'\u001b[39m\u001b[38;5;124mimage\u001b[39m\u001b[38;5;124m'\u001b[39m, img)\n\u001b[1;32m---> 22\u001b[0m \u001b[43mcv2\u001b[49m\u001b[38;5;241;43m.\u001b[39;49m\u001b[43mwaitKey\u001b[49m\u001b[43m(\u001b[49m\u001b[43m)\u001b[49m\n\u001b[0;32m     23\u001b[0m cv2\u001b[38;5;241m.\u001b[39mdestroyAllWindows()\n",
      "\u001b[1;31mKeyboardInterrupt\u001b[0m: "
     ]
    }
   ],
   "source": [
    "filename = 'mnist_train/000002.jpg'\n",
    "result = numbers_model.predict(filename, confidence=40, overlap=30)\n",
    "result_json = result.json()\n",
    "#print(result_json)\n",
    "\n",
    "for pred in result_json['predictions']:\n",
    "    x = pred['x']\n",
    "    y = pred['y']\n",
    "    width = pred['width']\n",
    "    height = pred['height']\n",
    "    conf = pred['confidence']\n",
    "    cls = pred['class']\n",
    "    print(x, y, width, height, f'{cls} {conf:.4f}')\n",
    "    \n",
    "    x1, y1 = int(x-width/2), int(y-height/2)\n",
    "    x2, y2 = int(x+width/2), int(y+height/2)\n",
    "    \n",
    "    cv2.rectangle(img, (x1,y1), (x2, y2), (0,0,255), 2)\n",
    "    cv2.putText(img, f'{cls} {conf:.4f}', (x1,y1), cv2.FONT_HERSHEY_PLAIN, 2, (0,0,255))\n",
    "\n",
    "cv2.imshow('image', img)\n",
    "cv2.waitKey()\n",
    "cv2.destroyAllWindows()"
   ]
  },
  {
   "cell_type": "code",
   "execution_count": null,
   "id": "807aeff7",
   "metadata": {},
   "outputs": [],
   "source": []
  },
  {
   "cell_type": "code",
   "execution_count": null,
   "id": "e9f19714",
   "metadata": {},
   "outputs": [],
   "source": []
  },
  {
   "cell_type": "code",
   "execution_count": null,
   "id": "f45ec24b",
   "metadata": {},
   "outputs": [],
   "source": []
  },
  {
   "cell_type": "code",
   "execution_count": null,
   "id": "43d6efa7",
   "metadata": {},
   "outputs": [],
   "source": []
  }
 ],
 "metadata": {
  "kernelspec": {
   "display_name": "torch_cuda_yolo_env",
   "language": "python",
   "name": "python3"
  },
  "language_info": {
   "codemirror_mode": {
    "name": "ipython",
    "version": 3
   },
   "file_extension": ".py",
   "mimetype": "text/x-python",
   "name": "python",
   "nbconvert_exporter": "python",
   "pygments_lexer": "ipython3",
   "version": "3.10.18"
  }
 },
 "nbformat": 4,
 "nbformat_minor": 5
}
