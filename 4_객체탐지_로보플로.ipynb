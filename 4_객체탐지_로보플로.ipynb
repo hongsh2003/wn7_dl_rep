{
 "cells": [
  {
   "cell_type": "code",
   "execution_count": 1,
   "id": "5ece5602",
   "metadata": {},
   "outputs": [
    {
     "name": "stdout",
     "output_type": "stream",
     "text": [
      "torch: 2.6.0+cu124 cuda: 12.4 is_available: True\n"
     ]
    }
   ],
   "source": [
    "import torch\n",
    "print(\"torch:\", \n",
    "      torch.__version__, \n",
    "      \"cuda:\", torch.version.cuda, \n",
    "      \"is_available:\", \n",
    "      torch.cuda.is_available())"
   ]
  },
  {
   "cell_type": "code",
   "execution_count": 8,
   "id": "50d3717e",
   "metadata": {},
   "outputs": [],
   "source": [
    "import os\n",
    "from dotenv import load_dotenv\n",
    "loaded = load_dotenv()\n",
    "# os.getenv('ROBOFLOW_API_KEY')"
   ]
  },
  {
   "cell_type": "code",
   "execution_count": 5,
   "id": "ca425a36",
   "metadata": {},
   "outputs": [
    {
     "data": {
      "text/plain": [
       "<inference_sdk.http.client.InferenceHTTPClient at 0x22079fec580>"
      ]
     },
     "execution_count": 5,
     "metadata": {},
     "output_type": "execute_result"
    }
   ],
   "source": [
    "from inference_sdk import InferenceHTTPClient\n",
    "CLIENT = InferenceHTTPClient(\n",
    "    api_url=\"https://detect.roboflow.com\",\n",
    "    api_key = os.getenv('ROBOFLOW_API_KEY')\n",
    ")\n",
    "CLIENT"
   ]
  },
  {
   "cell_type": "code",
   "execution_count": 6,
   "id": "bf7fa0ba",
   "metadata": {},
   "outputs": [
    {
     "data": {
      "text/plain": [
       "{'inference_id': 'f7b9dda2-21c5-4d78-8bd1-8d0bb90c4293',\n",
       " 'time': 0.06622150799989868,\n",
       " 'image': {'width': 580, 'height': 614},\n",
       " 'predictions': [{'x': 129.5,\n",
       "   'y': 119.0,\n",
       "   'width': 257.0,\n",
       "   'height': 96.0,\n",
       "   'confidence': 0.8729892373085022,\n",
       "   'class': 'Scissors',\n",
       "   'class_id': 2,\n",
       "   'detection_id': '5653b52f-2364-4885-bbb6-08e8d39e63b6'},\n",
       "  {'x': 117.0,\n",
       "   'y': 316.5,\n",
       "   'width': 230.0,\n",
       "   'height': 123.0,\n",
       "   'confidence': 0.7074464559555054,\n",
       "   'class': 'Paper',\n",
       "   'class_id': 0,\n",
       "   'detection_id': 'e6bb6484-fa9c-443c-b31c-14f49848ea9e'},\n",
       "  {'x': 128.0,\n",
       "   'y': 502.5,\n",
       "   'width': 254.0,\n",
       "   'height': 109.0,\n",
       "   'confidence': 0.4878521263599396,\n",
       "   'class': 'Paper',\n",
       "   'class_id': 0,\n",
       "   'detection_id': 'e7b54654-548c-467e-9771-0a580fe596a1'}]}"
      ]
     },
     "execution_count": 6,
     "metadata": {},
     "output_type": "execute_result"
    }
   ],
   "source": [
    "result = CLIENT.infer('sample.png', model_id=\"rock-paper-scissors-sxsw/14\")\n",
    "result"
   ]
  },
  {
   "cell_type": "code",
   "execution_count": 7,
   "id": "441725a0",
   "metadata": {},
   "outputs": [
    {
     "name": "stdout",
     "output_type": "stream",
     "text": [
      "129.5 119.0 257.0 96.0 0.8729892373085022 Scissors\n",
      "117.0 316.5 230.0 123.0 0.7074464559555054 Paper\n",
      "128.0 502.5 254.0 109.0 0.4878521263599396 Paper\n"
     ]
    }
   ],
   "source": [
    "for pred in result['predictions']:\n",
    "    x = pred['x']\n",
    "    y = pred['y']\n",
    "    width = pred['width']\n",
    "    height = pred['height']\n",
    "    conf = pred['confidence']\n",
    "    obj_class = pred['class']\n",
    "    print(x, y, width, height, conf, obj_class)"
   ]
  },
  {
   "cell_type": "code",
   "execution_count": null,
   "id": "fa9bd2bb",
   "metadata": {},
   "outputs": [],
   "source": []
  }
 ],
 "metadata": {
  "kernelspec": {
   "display_name": "torch_cuda_yolo_env",
   "language": "python",
   "name": "python3"
  },
  "language_info": {
   "codemirror_mode": {
    "name": "ipython",
    "version": 3
   },
   "file_extension": ".py",
   "mimetype": "text/x-python",
   "name": "python",
   "nbconvert_exporter": "python",
   "pygments_lexer": "ipython3",
   "version": "3.10.18"
  }
 },
 "nbformat": 4,
 "nbformat_minor": 5
}
