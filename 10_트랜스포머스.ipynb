{
 "cells": [
  {
   "cell_type": "code",
   "execution_count": 2,
   "id": "a3c79af0",
   "metadata": {},
   "outputs": [
    {
     "name": "stdout",
     "output_type": "stream",
     "text": [
      "torch: 2.6.0+cu124 cuda: 12.4 is_available: True\n"
     ]
    }
   ],
   "source": [
    "import torch\n",
    "print(\"torch:\", torch.__version__, \"cuda:\", torch.version.cuda, \"is_available:\", torch.cuda.is_available())"
   ]
  },
  {
   "cell_type": "code",
   "execution_count": 3,
   "id": "2330d560",
   "metadata": {},
   "outputs": [],
   "source": [
    "# 예시 영화평\n",
    "reviews = [\n",
    "\"This movie was absolutely fantastic! The acting, the plot, everything was perfect.\",\n",
    "\"I did not enjoy this movie at all. The story was predictable and the acting was terrible.\",\n",
    "\"A solid performance by the lead actor, but the plot could have been better.\",\n",
    "\"What a waste of time! I can't believe I sat through the whole movie.\"\n",
    "]"
   ]
  },
  {
   "cell_type": "code",
   "execution_count": 4,
   "id": "a3c23a19",
   "metadata": {},
   "outputs": [
    {
     "name": "stderr",
     "output_type": "stream",
     "text": [
      "c:\\Users\\Admin\\miniconda3\\envs\\torch_cuda_transformer_env\\lib\\site-packages\\tqdm\\auto.py:21: TqdmWarning: IProgress not found. Please update jupyter and ipywidgets. See https://ipywidgets.readthedocs.io/en/stable/user_install.html\n",
      "  from .autonotebook import tqdm as notebook_tqdm\n",
      "Device set to use cuda:0\n"
     ]
    },
    {
     "data": {
      "text/plain": [
       "<transformers.pipelines.text_classification.TextClassificationPipeline at 0x2271a5c05e0>"
      ]
     },
     "execution_count": 4,
     "metadata": {},
     "output_type": "execute_result"
    }
   ],
   "source": [
    "# 감성분석\n",
    "from transformers import pipeline\n",
    "senti_anal = pipeline(\"sentiment-analysis\", model=\"distilbert-base-uncased-finetuned-sst-2-english\")\n",
    "senti_anal"
   ]
  },
  {
   "cell_type": "code",
   "execution_count": 8,
   "id": "0af6e9ac",
   "metadata": {},
   "outputs": [
    {
     "data": {
      "text/plain": [
       "[{'label': 'POSITIVE', 'score': 0.9998705387115479},\n",
       " {'label': 'NEGATIVE', 'score': 0.9996206760406494},\n",
       " {'label': 'POSITIVE', 'score': 0.6785107254981995},\n",
       " {'label': 'NEGATIVE', 'score': 0.999803364276886}]"
      ]
     },
     "execution_count": 8,
     "metadata": {},
     "output_type": "execute_result"
    }
   ],
   "source": [
    "results = senti_anal(reviews)\n",
    "results"
   ]
  },
  {
   "cell_type": "code",
   "execution_count": 9,
   "id": "6ae51ba0",
   "metadata": {},
   "outputs": [
    {
     "name": "stdout",
     "output_type": "stream",
     "text": [
      "Review: This movie was absolutely fantastic! The acting, the plot, everything was perfect.\n",
      "Sentiment: POSITIVE with score 1.00\n",
      "\n",
      "Review: I did not enjoy this movie at all. The story was predictable and the acting was terrible.\n",
      "Sentiment: NEGATIVE with score 1.00\n",
      "\n",
      "Review: A solid performance by the lead actor, but the plot could have been better.\n",
      "Sentiment: POSITIVE with score 0.68\n",
      "\n",
      "Review: What a waste of time! I can't believe I sat through the whole movie.\n",
      "Sentiment: NEGATIVE with score 1.00\n",
      "\n"
     ]
    }
   ],
   "source": [
    "for review, result in zip(reviews, results):\n",
    "    print(f\"Review: {review}\\nSentiment: {result['label']} with score {result['score']:.2f}\\n\")"
   ]
  },
  {
   "cell_type": "code",
   "execution_count": null,
   "id": "f43bd251",
   "metadata": {},
   "outputs": [],
   "source": []
  }
 ],
 "metadata": {
  "kernelspec": {
   "display_name": "torch_cuda_transformer_env",
   "language": "python",
   "name": "python3"
  },
  "language_info": {
   "codemirror_mode": {
    "name": "ipython",
    "version": 3
   },
   "file_extension": ".py",
   "mimetype": "text/x-python",
   "name": "python",
   "nbconvert_exporter": "python",
   "pygments_lexer": "ipython3",
   "version": "3.10.18"
  }
 },
 "nbformat": 4,
 "nbformat_minor": 5
}
